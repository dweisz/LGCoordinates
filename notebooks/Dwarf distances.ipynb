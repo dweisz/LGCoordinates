{
 "cells": [
  {
   "cell_type": "code",
   "execution_count": 1,
   "metadata": {
    "collapsed": true
   },
   "outputs": [],
   "source": [
    "import sys\n",
    "from os import path\n",
    "_up_one = path.abspath('../')\n",
    "if _up_one not in sys.path:\n",
    "    sys.path.insert(1, _up_one)\n",
    "\n",
    "# Third-party\n",
    "from astropy.io import ascii\n",
    "import astropy.coordinates as coord\n",
    "import astropy.units as u\n",
    "import matplotlib as mpl\n",
    "import matplotlib.pyplot as plt\n",
    "import numpy as np\n",
    "%matplotlib inline\n",
    "\n",
    "from lg_barycentric import LocalGroupBarycentric"
   ]
  },
  {
   "cell_type": "code",
   "execution_count": 31,
   "metadata": {
    "collapsed": true
   },
   "outputs": [],
   "source": [
    "nearby = ascii.read('../data/NearbyGalaxies_wmore.dat', delimiter=',')"
   ]
  },
  {
   "cell_type": "code",
   "execution_count": 32,
   "metadata": {
    "collapsed": true
   },
   "outputs": [],
   "source": [
    "c = coord.SkyCoord(ra=nearby['RA'],\n",
    "                   dec=nearby['Dec'],\n",
    "                   distance=coord.Distance(distmod=nearby['distmod']),\n",
    "                   unit=(u.hourangle, u.deg))"
   ]
  },
  {
   "cell_type": "code",
   "execution_count": 33,
   "metadata": {
    "collapsed": true
   },
   "outputs": [],
   "source": [
    "c_barycen = c.transform_to(LocalGroupBarycentric(mw_mass=1E12*u.Msun,\n",
    "                                                 m31_mass=2.5E12*u.Msun))"
   ]
  },
  {
   "cell_type": "code",
   "execution_count": 57,
   "metadata": {},
   "outputs": [
    {
     "name": "stderr",
     "output_type": "stream",
     "text": [
      "/Users/erik/miniconda3/lib/python3.5/site-packages/ipykernel/__main__.py:2: RuntimeWarning: divide by zero encountered in log10\n",
      "  from ipykernel import kernelapp as app\n",
      "/Users/erik/miniconda3/lib/python3.5/site-packages/ipykernel/__main__.py:2: RuntimeWarning: invalid value encountered in log10\n",
      "  from ipykernel import kernelapp as app\n"
     ]
    }
   ],
   "source": [
    "hasHI = nearby['MHI']>0\n",
    "logMoLV = (np.log10(nearby['MHI']) - nearby['logLV'])"
   ]
  },
  {
   "cell_type": "code",
   "execution_count": 61,
   "metadata": {},
   "outputs": [
    {
     "data": {
      "image/png": "[encoded data removed]",
      "text/plain": [
       "<matplotlib.figure.Figure at 0x1144c62b0>"
      ]
     },
     "metadata": {},
     "output_type": "display_data"
    }
   ],
   "source": [
    "#style = dict(marker='.', linestyle='none', alpha=0.65)\n",
    "style = dict(marker='o', alpha=.75, s=15, lw=0)\n",
    "\n",
    "fig, axes = plt.subplots(2, 2, figsize=(8.75,8), sharex=True, sharey=True)\n",
    "\n",
    "for i in range(2):\n",
    "    if i == 0:\n",
    "        cart = c_barycen.cartesian[hasHI]\n",
    "        style['c'] = logMoLV[hasHI]\n",
    "        style['cmap'] = 'jet_r'\n",
    "        style['vmin'] = -1\n",
    "        style['vmax'] = 1\n",
    "    elif i == 1:\n",
    "        cart = c_barycen.cartesian[~hasHI]\n",
    "        style['c'] = 'k'\n",
    "    else:\n",
    "        assert False\n",
    "        \n",
    "    axes[0,0].scatter(cart.xyz[0],\n",
    "                   cart.xyz[1],\n",
    "                   **style)\n",
    "    axes[1,0].scatter(cart.xyz[0],\n",
    "                   cart.xyz[2],\n",
    "                   **style)\n",
    "    cm = axes[1,1].scatter(cart.xyz[1],\n",
    "                   cart.xyz[2],\n",
    "                   **style)\n",
    "    if i==0:\n",
    "        plt.colorbar(cm)\n",
    "\n",
    "\n",
    "\n",
    "axes[0,0].set_xlim(-1200, 1200)\n",
    "axes[0,0].set_ylim(-1200, 1200)\n",
    "\n",
    "axes[0,0].set_ylabel(r'$y_{\\rm LG}$ [kpc]')\n",
    "axes[1,0].set_ylabel(r'$z_{\\rm LG}$ [kpc]')\n",
    "axes[1,0].set_xlabel(r'$x_{\\rm LG}$ [kpc]')\n",
    "axes[1,1].set_xlabel(r'$y_{\\rm LG}$ [kpc]')\n",
    "\n",
    "axes[0,0].xaxis.set_ticks(np.arange(-1000, 1000+1, 500))\n",
    "axes[0,0].yaxis.set_ticks(axes[0,0].get_xticks())\n",
    "\n",
    "axes[0,1].set_visible(False)\n",
    "\n",
    "fig.tight_layout()"
   ]
  },
  {
   "cell_type": "markdown",
   "metadata": {},
   "source": [
    "# Flattening "
   ]
  },
  {
   "cell_type": "code",
   "execution_count": 90,
   "metadata": {},
   "outputs": [],
   "source": [
    "from astropy.coordinates import CartesianRepresentation, SphericalRepresentation"
   ]
  },
  {
   "cell_type": "code",
   "execution_count": 103,
   "metadata": {},
   "outputs": [],
   "source": [
    "def barycen_to_flattened(c, flattening=0):\n",
    "    newx = c.cartesian.x\n",
    "    newy = c.cartesian.y * (1-flattening)\n",
    "    newz = c.cartesian.z * (1-flattening)\n",
    "    return CartesianRepresentation(newx, newy, newz).represent_as(SphericalRepresentation)\n",
    "\n",
    "assert np.all(barycen_to_flattened(c_barycen).distance == c_barycen.spherical.distance)\n",
    "assert not np.any(barycen_to_flattened(c_barycen, .5 ).distance == c_barycen.spherical.distance)"
   ]
  },
  {
   "cell_type": "markdown",
   "metadata": {
    "collapsed": true
   },
   "source": [
    "# Optimization "
   ]
  },
  {
   "cell_type": "code",
   "execution_count": 6,
   "metadata": {
    "collapsed": true
   },
   "outputs": [],
   "source": [
    "import emcee"
   ]
  },
  {
   "cell_type": "code",
   "execution_count": null,
   "metadata": {
    "collapsed": true
   },
   "outputs": [],
   "source": []
  },
  {
   "cell_type": "code",
   "execution_count": 7,
   "metadata": {
    "collapsed": true
   },
   "outputs": [],
   "source": [
    "MINF = -np.inf\n",
    "\n",
    "def lpro(rad, flat):\n",
    "    if not 0 < rad < 1000:\n",
    "        return MINF\n",
    "    if not 0 < flat < .9:\n",
    "        return MINF\n",
    "    return 0\n",
    "\n",
    "def lnprob(params):\n",
    "    rad, flat = params\n",
    "    \n",
    "    lpri = lpri(rad, flat)\n",
    "    if lpri == MINF:\n",
    "        return MINF\n",
    "    \n",
    "    d = barycen_to_flattened(c_barycen, flat).distance\n",
    "    \n",
    "    lnprob = d < rad\n",
    "    \n",
    "    return lpri + lnprob\n",
    "    \n",
    "    \n",
    "    \n",
    "\n",
    "sampler = emcee.EnsembleSampler(20, 2, lnprob)"
   ]
  },
  {
   "cell_type": "code",
   "execution_count": null,
   "metadata": {
    "collapsed": true
   },
   "outputs": [],
   "source": []
  }
 ],
 "metadata": {
  "kernelspec": {
   "display_name": "Python [default]",
   "language": "python",
   "name": "python3"
  },
  "language_info": {
   "codemirror_mode": {
    "name": "ipython",
    "version": 3
   },
   "file_extension": ".py",
   "mimetype": "text/x-python",
   "name": "python",
   "nbconvert_exporter": "python",
   "pygments_lexer": "ipython3",
   "version": "3.5.2"
  }
 },
 "nbformat": 4,
 "nbformat_minor": 2
}
